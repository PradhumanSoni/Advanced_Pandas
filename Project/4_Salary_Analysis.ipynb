{
 "cells": [
  {
   "cell_type": "code",
   "execution_count": 2,
   "id": "26e05c8b",
   "metadata": {},
   "outputs": [],
   "source": [
    "# Importing Modules\n",
    "import pandas as pd\n",
    "from datasets import load_dataset\n",
    "import matplotlib.pyplot as plt \n",
    "import seaborn as sns\n",
    "import ast \n",
    "from matplotlib import ticker as mtick\n",
    "\n",
    "# Loading Data\n",
    "dataset = load_dataset('lukebarousse/data_jobs')\n",
    "df = dataset['train'].to_pandas()\n",
    "\n",
    "# Data Cleanup\n",
    "df['job_posted_date'] = pd.to_datetime(df['job_posted_date'])\n",
    "df['month_name']=df['job_posted_date'].dt.month_name()\n",
    "df['job_skills'] = df['job_skills'].apply(lambda x: ast.literal_eval(x) if pd.notna(x) else x)\n",
    "\n"
   ]
  },
  {
   "cell_type": "code",
   "execution_count": 3,
   "id": "f3252653",
   "metadata": {},
   "outputs": [
    {
     "data": {
      "application/vnd.microsoft.datawrangler.viewer.v0+json": {
       "columns": [
        {
         "name": "index",
         "rawType": "int64",
         "type": "integer"
        },
        {
         "name": "job_title_short",
         "rawType": "object",
         "type": "string"
        },
        {
         "name": "job_title",
         "rawType": "object",
         "type": "string"
        },
        {
         "name": "job_location",
         "rawType": "object",
         "type": "string"
        },
        {
         "name": "job_via",
         "rawType": "object",
         "type": "string"
        },
        {
         "name": "job_schedule_type",
         "rawType": "object",
         "type": "string"
        },
        {
         "name": "job_work_from_home",
         "rawType": "bool",
         "type": "boolean"
        },
        {
         "name": "search_location",
         "rawType": "object",
         "type": "string"
        },
        {
         "name": "job_posted_date",
         "rawType": "datetime64[ns]",
         "type": "datetime"
        },
        {
         "name": "job_no_degree_mention",
         "rawType": "bool",
         "type": "boolean"
        },
        {
         "name": "job_health_insurance",
         "rawType": "bool",
         "type": "boolean"
        },
        {
         "name": "job_country",
         "rawType": "object",
         "type": "string"
        },
        {
         "name": "salary_rate",
         "rawType": "object",
         "type": "string"
        },
        {
         "name": "salary_year_avg",
         "rawType": "float64",
         "type": "float"
        },
        {
         "name": "salary_hour_avg",
         "rawType": "float64",
         "type": "float"
        },
        {
         "name": "company_name",
         "rawType": "object",
         "type": "string"
        },
        {
         "name": "job_skills",
         "rawType": "object",
         "type": "unknown"
        },
        {
         "name": "job_type_skills",
         "rawType": "object",
         "type": "string"
        },
        {
         "name": "month_name",
         "rawType": "object",
         "type": "string"
        }
       ],
       "ref": "4d6d48c7-0b3b-46d2-bd43-60b74b3dfc17",
       "rows": [
        [
         "92",
         "Data Engineer",
         "Remote - Data Engineer - Permanent - W2",
         "Anywhere",
         "via LinkedIn",
         "Full-time",
         "True",
         "Illinois, United States",
         "2023-02-21 13:29:59",
         "False",
         "True",
         "United States",
         "year",
         "120000.0",
         null,
         "Apex Systems",
         "['sql', 'python']",
         "{'programming': ['sql', 'python']}",
         "February"
        ],
        [
         "100",
         "Data Scientist",
         "Data Scientist, Risk Data Mining - USDS",
         "Mountain View, CA",
         "via LinkedIn",
         "Full-time",
         "False",
         "California, United States",
         "2023-07-31 13:01:18",
         "False",
         "True",
         "United States",
         "year",
         "228222.0",
         null,
         "TikTok",
         "['sql', 'r', 'python', 'express']",
         "{'programming': ['sql', 'r', 'python'], 'webframeworks': ['express']}",
         "July"
        ],
        [
         "109",
         "Data Analyst",
         "Senior Supply Chain Analytics Analyst",
         "Anywhere",
         "via Get.It",
         "Full-time",
         "True",
         "Illinois, United States",
         "2023-10-12 13:02:19",
         "False",
         "True",
         "United States",
         "year",
         "89000.0",
         null,
         "Get It Recruit - Transportation",
         "['python', 'r', 'alteryx', 'tableau']",
         "{'analyst_tools': ['alteryx', 'tableau'], 'programming': ['python', 'r']}",
         "October"
        ]
       ],
       "shape": {
        "columns": 18,
        "rows": 3
       }
      },
      "text/html": [
       "<div>\n",
       "<style scoped>\n",
       "    .dataframe tbody tr th:only-of-type {\n",
       "        vertical-align: middle;\n",
       "    }\n",
       "\n",
       "    .dataframe tbody tr th {\n",
       "        vertical-align: top;\n",
       "    }\n",
       "\n",
       "    .dataframe thead th {\n",
       "        text-align: right;\n",
       "    }\n",
       "</style>\n",
       "<table border=\"1\" class=\"dataframe\">\n",
       "  <thead>\n",
       "    <tr style=\"text-align: right;\">\n",
       "      <th></th>\n",
       "      <th>job_title_short</th>\n",
       "      <th>job_title</th>\n",
       "      <th>job_location</th>\n",
       "      <th>job_via</th>\n",
       "      <th>job_schedule_type</th>\n",
       "      <th>job_work_from_home</th>\n",
       "      <th>search_location</th>\n",
       "      <th>job_posted_date</th>\n",
       "      <th>job_no_degree_mention</th>\n",
       "      <th>job_health_insurance</th>\n",
       "      <th>job_country</th>\n",
       "      <th>salary_rate</th>\n",
       "      <th>salary_year_avg</th>\n",
       "      <th>salary_hour_avg</th>\n",
       "      <th>company_name</th>\n",
       "      <th>job_skills</th>\n",
       "      <th>job_type_skills</th>\n",
       "      <th>month_name</th>\n",
       "    </tr>\n",
       "  </thead>\n",
       "  <tbody>\n",
       "    <tr>\n",
       "      <th>92</th>\n",
       "      <td>Data Engineer</td>\n",
       "      <td>Remote - Data Engineer - Permanent - W2</td>\n",
       "      <td>Anywhere</td>\n",
       "      <td>via LinkedIn</td>\n",
       "      <td>Full-time</td>\n",
       "      <td>True</td>\n",
       "      <td>Illinois, United States</td>\n",
       "      <td>2023-02-21 13:29:59</td>\n",
       "      <td>False</td>\n",
       "      <td>True</td>\n",
       "      <td>United States</td>\n",
       "      <td>year</td>\n",
       "      <td>120000.0</td>\n",
       "      <td>NaN</td>\n",
       "      <td>Apex Systems</td>\n",
       "      <td>[sql, python]</td>\n",
       "      <td>{'programming': ['sql', 'python']}</td>\n",
       "      <td>February</td>\n",
       "    </tr>\n",
       "    <tr>\n",
       "      <th>100</th>\n",
       "      <td>Data Scientist</td>\n",
       "      <td>Data Scientist, Risk Data Mining - USDS</td>\n",
       "      <td>Mountain View, CA</td>\n",
       "      <td>via LinkedIn</td>\n",
       "      <td>Full-time</td>\n",
       "      <td>False</td>\n",
       "      <td>California, United States</td>\n",
       "      <td>2023-07-31 13:01:18</td>\n",
       "      <td>False</td>\n",
       "      <td>True</td>\n",
       "      <td>United States</td>\n",
       "      <td>year</td>\n",
       "      <td>228222.0</td>\n",
       "      <td>NaN</td>\n",
       "      <td>TikTok</td>\n",
       "      <td>[sql, r, python, express]</td>\n",
       "      <td>{'programming': ['sql', 'r', 'python'], 'webfr...</td>\n",
       "      <td>July</td>\n",
       "    </tr>\n",
       "    <tr>\n",
       "      <th>109</th>\n",
       "      <td>Data Analyst</td>\n",
       "      <td>Senior Supply Chain Analytics Analyst</td>\n",
       "      <td>Anywhere</td>\n",
       "      <td>via Get.It</td>\n",
       "      <td>Full-time</td>\n",
       "      <td>True</td>\n",
       "      <td>Illinois, United States</td>\n",
       "      <td>2023-10-12 13:02:19</td>\n",
       "      <td>False</td>\n",
       "      <td>True</td>\n",
       "      <td>United States</td>\n",
       "      <td>year</td>\n",
       "      <td>89000.0</td>\n",
       "      <td>NaN</td>\n",
       "      <td>Get It Recruit - Transportation</td>\n",
       "      <td>[python, r, alteryx, tableau]</td>\n",
       "      <td>{'analyst_tools': ['alteryx', 'tableau'], 'pro...</td>\n",
       "      <td>October</td>\n",
       "    </tr>\n",
       "  </tbody>\n",
       "</table>\n",
       "</div>"
      ],
      "text/plain": [
       "    job_title_short                                job_title  \\\n",
       "92    Data Engineer  Remote - Data Engineer - Permanent - W2   \n",
       "100  Data Scientist  Data Scientist, Risk Data Mining - USDS   \n",
       "109    Data Analyst    Senior Supply Chain Analytics Analyst   \n",
       "\n",
       "          job_location       job_via job_schedule_type  job_work_from_home  \\\n",
       "92            Anywhere  via LinkedIn         Full-time                True   \n",
       "100  Mountain View, CA  via LinkedIn         Full-time               False   \n",
       "109           Anywhere    via Get.It         Full-time                True   \n",
       "\n",
       "               search_location     job_posted_date  job_no_degree_mention  \\\n",
       "92     Illinois, United States 2023-02-21 13:29:59                  False   \n",
       "100  California, United States 2023-07-31 13:01:18                  False   \n",
       "109    Illinois, United States 2023-10-12 13:02:19                  False   \n",
       "\n",
       "     job_health_insurance    job_country salary_rate  salary_year_avg  \\\n",
       "92                   True  United States        year         120000.0   \n",
       "100                  True  United States        year         228222.0   \n",
       "109                  True  United States        year          89000.0   \n",
       "\n",
       "     salary_hour_avg                     company_name  \\\n",
       "92               NaN                     Apex Systems   \n",
       "100              NaN                           TikTok   \n",
       "109              NaN  Get It Recruit - Transportation   \n",
       "\n",
       "                        job_skills  \\\n",
       "92                   [sql, python]   \n",
       "100      [sql, r, python, express]   \n",
       "109  [python, r, alteryx, tableau]   \n",
       "\n",
       "                                       job_type_skills month_name  \n",
       "92                  {'programming': ['sql', 'python']}   February  \n",
       "100  {'programming': ['sql', 'r', 'python'], 'webfr...       July  \n",
       "109  {'analyst_tools': ['alteryx', 'tableau'], 'pro...    October  "
      ]
     },
     "execution_count": 3,
     "metadata": {},
     "output_type": "execute_result"
    }
   ],
   "source": [
    "# ONLY FOR US MARKET \n",
    "df_US = df[df['job_country']=='United States'].dropna(subset=['salary_year_avg'])\n",
    "df_US.head(3)"
   ]
  },
  {
   "cell_type": "code",
   "execution_count": 4,
   "id": "db5ee4a9",
   "metadata": {},
   "outputs": [
    {
     "data": {
      "text/plain": [
       "['Data Scientist',\n",
       " 'Data Analyst',\n",
       " 'Data Engineer',\n",
       " 'Senior Data Scientist',\n",
       " 'Senior Data Engineer',\n",
       " 'Senior Data Analyst']"
      ]
     },
     "execution_count": 4,
     "metadata": {},
     "output_type": "execute_result"
    }
   ],
   "source": [
    "top_jobs = df_US['job_title_short'].value_counts(ascending=False).head(6).index.tolist()\n",
    "top_jobs"
   ]
  },
  {
   "cell_type": "code",
   "execution_count": 5,
   "id": "6d9e843b",
   "metadata": {},
   "outputs": [],
   "source": [
    "df_US_top6 = df_US[df_US['job_title_short'].isin(top_jobs)]  # Gives Us dataFrame with Top Jobs Only"
   ]
  },
  {
   "cell_type": "code",
   "execution_count": 6,
   "id": "a4e0808e",
   "metadata": {},
   "outputs": [],
   "source": [
    "job_order = df_US_top6.groupby('job_title_short')['salary_year_avg'].median().sort_values(ascending=False).index\n"
   ]
  },
  {
   "cell_type": "code",
   "execution_count": 7,
   "id": "ac3d93e6",
   "metadata": {},
   "outputs": [
    {
     "data": {
      "text/plain": [
       "(0.0, 600000.0)"
      ]
     },
     "execution_count": 7,
     "metadata": {},
     "output_type": "execute_result"
    },
    {
     "data": {
      "image/png": "[encoded data removed]",
      "text/plain": [
       "<Figure size 640x480 with 1 Axes>"
      ]
     },
     "metadata": {},
     "output_type": "display_data"
    }
   ],
   "source": [
    "sns.boxplot(data=df_US_top6, y='job_title_short', x='salary_year_avg' , order=job_order)\n",
    "plt.title('Salary Distributions For Top Jobs in US')\n",
    "plt.xlabel('Salary in USD')\n",
    "plt.ylabel('')\n",
    "\n",
    "ax = plt.gca()\n",
    "ax.xaxis.set_major_formatter(mtick.FuncFormatter(lambda x,_:f'${int(x/1000)}K'))\n",
    "sns.despine()\n",
    "plt.xlim(0,600000)"
   ]
  },
  {
   "cell_type": "markdown",
   "id": "872267a3",
   "metadata": {},
   "source": [
    "**Investigate Median Salary VS Skills in Data Analyst**"
   ]
  },
  {
   "cell_type": "code",
   "execution_count": 8,
   "id": "2f3cc914",
   "metadata": {},
   "outputs": [],
   "source": [
    "df_da_us = df[(df['job_title_short']=='Data Analyst') & (df['job_country']=='United States')].copy()"
   ]
  },
  {
   "cell_type": "code",
   "execution_count": 26,
   "id": "aa40e1e2",
   "metadata": {},
   "outputs": [],
   "source": [
    "df_exploded= df_da_us.explode('job_skills')"
   ]
  },
  {
   "cell_type": "code",
   "execution_count": 27,
   "id": "c5edb396",
   "metadata": {},
   "outputs": [],
   "source": [
    "df_final = df_exploded.groupby('job_skills').agg(\n",
    "    skill_count = ('job_skills', 'count'),\n",
    "    median_salary = ('salary_year_avg','median')\n",
    ")"
   ]
  },
  {
   "cell_type": "code",
   "execution_count": 33,
   "id": "cfe973e2",
   "metadata": {},
   "outputs": [
    {
     "data": {
      "application/vnd.microsoft.datawrangler.viewer.v0+json": {
       "columns": [
        {
         "name": "index",
         "rawType": "int64",
         "type": "integer"
        },
        {
         "name": "job_skills",
         "rawType": "object",
         "type": "string"
        },
        {
         "name": "skill_count",
         "rawType": "int64",
         "type": "integer"
        },
        {
         "name": "median_salary",
         "rawType": "float64",
         "type": "float"
        }
       ],
       "ref": "f4331511-41f8-4c48-80f6-787cd7bd3f77",
       "rows": [
        [
         "0",
         "sql",
         "34452",
         "91000.0"
        ],
        [
         "1",
         "excel",
         "27519",
         "84392.0"
        ],
        [
         "2",
         "tableau",
         "19311",
         "92875.0"
        ],
        [
         "3",
         "python",
         "18382",
         "97500.0"
        ],
        [
         "4",
         "sas",
         "13200",
         "90000.0"
        ],
        [
         "5",
         "r",
         "11659",
         "92500.0"
        ],
        [
         "6",
         "power bi",
         "11630",
         "90000.0"
        ]
       ],
       "shape": {
        "columns": 3,
        "rows": 7
       }
      },
      "text/html": [
       "<div>\n",
       "<style scoped>\n",
       "    .dataframe tbody tr th:only-of-type {\n",
       "        vertical-align: middle;\n",
       "    }\n",
       "\n",
       "    .dataframe tbody tr th {\n",
       "        vertical-align: top;\n",
       "    }\n",
       "\n",
       "    .dataframe thead th {\n",
       "        text-align: right;\n",
       "    }\n",
       "</style>\n",
       "<table border=\"1\" class=\"dataframe\">\n",
       "  <thead>\n",
       "    <tr style=\"text-align: right;\">\n",
       "      <th></th>\n",
       "      <th>job_skills</th>\n",
       "      <th>skill_count</th>\n",
       "      <th>median_salary</th>\n",
       "    </tr>\n",
       "  </thead>\n",
       "  <tbody>\n",
       "    <tr>\n",
       "      <th>0</th>\n",
       "      <td>sql</td>\n",
       "      <td>34452</td>\n",
       "      <td>91000.0</td>\n",
       "    </tr>\n",
       "    <tr>\n",
       "      <th>1</th>\n",
       "      <td>excel</td>\n",
       "      <td>27519</td>\n",
       "      <td>84392.0</td>\n",
       "    </tr>\n",
       "    <tr>\n",
       "      <th>2</th>\n",
       "      <td>tableau</td>\n",
       "      <td>19311</td>\n",
       "      <td>92875.0</td>\n",
       "    </tr>\n",
       "    <tr>\n",
       "      <th>3</th>\n",
       "      <td>python</td>\n",
       "      <td>18382</td>\n",
       "      <td>97500.0</td>\n",
       "    </tr>\n",
       "    <tr>\n",
       "      <th>4</th>\n",
       "      <td>sas</td>\n",
       "      <td>13200</td>\n",
       "      <td>90000.0</td>\n",
       "    </tr>\n",
       "    <tr>\n",
       "      <th>5</th>\n",
       "      <td>r</td>\n",
       "      <td>11659</td>\n",
       "      <td>92500.0</td>\n",
       "    </tr>\n",
       "    <tr>\n",
       "      <th>6</th>\n",
       "      <td>power bi</td>\n",
       "      <td>11630</td>\n",
       "      <td>90000.0</td>\n",
       "    </tr>\n",
       "  </tbody>\n",
       "</table>\n",
       "</div>"
      ],
      "text/plain": [
       "  job_skills  skill_count  median_salary\n",
       "0        sql        34452        91000.0\n",
       "1      excel        27519        84392.0\n",
       "2    tableau        19311        92875.0\n",
       "3     python        18382        97500.0\n",
       "4        sas        13200        90000.0\n",
       "5          r        11659        92500.0\n",
       "6   power bi        11630        90000.0"
      ]
     },
     "execution_count": 33,
     "metadata": {},
     "output_type": "execute_result"
    }
   ],
   "source": [
    "df_top_skills = df_final.sort_values(by='skill_count', ascending=False).head(7).reset_index()\n",
    "df_top_skills\n"
   ]
  },
  {
   "cell_type": "code",
   "execution_count": null,
   "id": "61a7f65b",
   "metadata": {},
   "outputs": [
    {
     "data": {
      "text/plain": [
       "['sql', 'excel', 'tableau', 'python', 'sas', 'r', 'power bi']"
      ]
     },
     "execution_count": 40,
     "metadata": {},
     "output_type": "execute_result"
    }
   ],
   "source": [
    "top_skills = df_top_skills['job_skills'].tolist()\n"
   ]
  },
  {
   "cell_type": "code",
   "execution_count": 35,
   "id": "4cf723b0",
   "metadata": {},
   "outputs": [
    {
     "data": {
      "application/vnd.microsoft.datawrangler.viewer.v0+json": {
       "columns": [
        {
         "name": "index",
         "rawType": "int64",
         "type": "integer"
        },
        {
         "name": "job_skills",
         "rawType": "object",
         "type": "string"
        },
        {
         "name": "skill_count",
         "rawType": "int64",
         "type": "integer"
        },
        {
         "name": "median_salary",
         "rawType": "float64",
         "type": "float"
        }
       ],
       "ref": "53ae2a5b-ae0e-4173-97b2-9ddef9af5d71",
       "rows": [
        [
         "0",
         "dplyr",
         "13",
         "196250.0"
        ],
        [
         "1",
         "bitbucket",
         "97",
         "189000.0"
        ],
        [
         "2",
         "gitlab",
         "96",
         "186000.0"
        ],
        [
         "3",
         "solidity",
         "11",
         "179000.0"
        ],
        [
         "4",
         "hugging face",
         "2",
         "175000.0"
        ],
        [
         "5",
         "couchbase",
         "11",
         "160515.0"
        ],
        [
         "6",
         "ansible",
         "48",
         "159640.0"
        ]
       ],
       "shape": {
        "columns": 3,
        "rows": 7
       }
      },
      "text/html": [
       "<div>\n",
       "<style scoped>\n",
       "    .dataframe tbody tr th:only-of-type {\n",
       "        vertical-align: middle;\n",
       "    }\n",
       "\n",
       "    .dataframe tbody tr th {\n",
       "        vertical-align: top;\n",
       "    }\n",
       "\n",
       "    .dataframe thead th {\n",
       "        text-align: right;\n",
       "    }\n",
       "</style>\n",
       "<table border=\"1\" class=\"dataframe\">\n",
       "  <thead>\n",
       "    <tr style=\"text-align: right;\">\n",
       "      <th></th>\n",
       "      <th>job_skills</th>\n",
       "      <th>skill_count</th>\n",
       "      <th>median_salary</th>\n",
       "    </tr>\n",
       "  </thead>\n",
       "  <tbody>\n",
       "    <tr>\n",
       "      <th>0</th>\n",
       "      <td>dplyr</td>\n",
       "      <td>13</td>\n",
       "      <td>196250.0</td>\n",
       "    </tr>\n",
       "    <tr>\n",
       "      <th>1</th>\n",
       "      <td>bitbucket</td>\n",
       "      <td>97</td>\n",
       "      <td>189000.0</td>\n",
       "    </tr>\n",
       "    <tr>\n",
       "      <th>2</th>\n",
       "      <td>gitlab</td>\n",
       "      <td>96</td>\n",
       "      <td>186000.0</td>\n",
       "    </tr>\n",
       "    <tr>\n",
       "      <th>3</th>\n",
       "      <td>solidity</td>\n",
       "      <td>11</td>\n",
       "      <td>179000.0</td>\n",
       "    </tr>\n",
       "    <tr>\n",
       "      <th>4</th>\n",
       "      <td>hugging face</td>\n",
       "      <td>2</td>\n",
       "      <td>175000.0</td>\n",
       "    </tr>\n",
       "    <tr>\n",
       "      <th>5</th>\n",
       "      <td>couchbase</td>\n",
       "      <td>11</td>\n",
       "      <td>160515.0</td>\n",
       "    </tr>\n",
       "    <tr>\n",
       "      <th>6</th>\n",
       "      <td>ansible</td>\n",
       "      <td>48</td>\n",
       "      <td>159640.0</td>\n",
       "    </tr>\n",
       "  </tbody>\n",
       "</table>\n",
       "</div>"
      ],
      "text/plain": [
       "     job_skills  skill_count  median_salary\n",
       "0         dplyr           13       196250.0\n",
       "1     bitbucket           97       189000.0\n",
       "2        gitlab           96       186000.0\n",
       "3      solidity           11       179000.0\n",
       "4  hugging face            2       175000.0\n",
       "5     couchbase           11       160515.0\n",
       "6       ansible           48       159640.0"
      ]
     },
     "execution_count": 35,
     "metadata": {},
     "output_type": "execute_result"
    }
   ],
   "source": [
    "df_highest_pay_skills = df_final.sort_values(by='median_salary', ascending=False).head(7).reset_index()\n",
    "df_highest_pay_skills"
   ]
  },
  {
   "cell_type": "code",
   "execution_count": 42,
   "id": "ef02a115",
   "metadata": {},
   "outputs": [
    {
     "data": {
      "text/plain": [
       "<Axes: ylabel='job_skills'>"
      ]
     },
     "execution_count": 42,
     "metadata": {},
     "output_type": "execute_result"
    },
    {
     "data": {
      "image/png": "[encoded data removed]",
      "text/plain": [
       "<Figure size 640x480 with 2 Axes>"
      ]
     },
     "metadata": {},
     "output_type": "display_data"
    }
   ],
   "source": [
    "fig , ax = plt.subplots(2,1)\n",
    "# sns.boxplot(data=df_highest_pay_skills , x='median_salary',y='job_skills', hue='median_salary', palette='dark:r_r',ax=ax[0])\n",
    "# sns.boxplot(data=df_top_skills , x='median_salary',y='job_skills', hue='median_salary', palette='dark:r_r',ax=ax[1])\n",
    "fig.tight_layout()\n",
    "df_top_skills.plot(kind='barh' , x='job_skills', y='median_salary' ,ax=ax[0])"
   ]
  },
  {
   "cell_type": "code",
   "execution_count": null,
   "id": "7208ade8",
   "metadata": {},
   "outputs": [],
   "source": []
  }
 ],
 "metadata": {
  "kernelspec": {
   "display_name": "base",
   "language": "python",
   "name": "python3"
  },
  "language_info": {
   "codemirror_mode": {
    "name": "ipython",
    "version": 3
   },
   "file_extension": ".py",
   "mimetype": "text/x-python",
   "name": "python",
   "nbconvert_exporter": "python",
   "pygments_lexer": "ipython3",
   "version": "3.12.7"
  }
 },
 "nbformat": 4,
 "nbformat_minor": 5
}
