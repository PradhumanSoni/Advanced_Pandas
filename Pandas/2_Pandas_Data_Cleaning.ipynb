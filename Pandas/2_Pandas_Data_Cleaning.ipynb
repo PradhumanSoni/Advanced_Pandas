{
 "cells": [
  {
   "cell_type": "code",
   "execution_count": null,
   "id": "08926f5a",
   "metadata": {},
   "outputs": [],
   "source": [
    "\n",
    "# Importing Libraries\n",
    "import pandas as pd\n",
    "from datasets import load_dataset\n",
    "import matplotlib.pyplot as plt  \n",
    "\n",
    "# Loading Data\n",
    "dataset = load_dataset('lukebarousse/data_jobs')\n",
    "df = dataset['train'].to_pandas()\n",
    "\n",
    "# Data Cleanup\n",
    "df['job_posted_date'] = pd.to_datetime(df['job_posted_date'])"
   ]
  },
  {
   "cell_type": "code",
   "execution_count": null,
   "id": "af3219b9",
   "metadata": {},
   "outputs": [],
   "source": [
    "df.head(3)\n",
    "df.info()"
   ]
  },
  {
   "cell_type": "code",
   "execution_count": null,
   "id": "78464f4e",
   "metadata": {},
   "outputs": [],
   "source": [
    "median_yearly_sal=df['salary_year_avg'].median()\n",
    "median_hourly_sal=df['salary_hour_avg'].median()"
   ]
  },
  {
   "cell_type": "markdown",
   "id": "a726d12f",
   "metadata": {},
   "source": [
    "**(I) To Fill The NaN values**"
   ]
  },
  {
   "cell_type": "code",
   "execution_count": null,
   "id": "a86b4c84",
   "metadata": {},
   "outputs": [],
   "source": [
    "df['salary_year_avg'].fillna(median_yearly_sal, inplace=True)\n",
    "df.loc[:,['salary_year_avg','salary_hour_avg']]"
   ]
  },
  {
   "cell_type": "code",
   "execution_count": null,
   "id": "4a4cf5a9",
   "metadata": {},
   "outputs": [],
   "source": [
    "df['salary_hour_avg'].fillna(median_hourly_sal, inplace=True)\n",
    "df.loc[:,['salary_year_avg','salary_hour_avg']]"
   ]
  },
  {
   "cell_type": "code",
   "execution_count": null,
   "id": "d5edbe93",
   "metadata": {},
   "outputs": [],
   "source": [
    "df.drop('month',axis=1,inplace=True)"
   ]
  },
  {
   "cell_type": "code",
   "execution_count": null,
   "id": "c0fe85bf",
   "metadata": {},
   "outputs": [],
   "source": [
    "df.info()"
   ]
  },
  {
   "cell_type": "code",
   "execution_count": null,
   "id": "aedc05ea",
   "metadata": {},
   "outputs": [],
   "source": [
    "df_unique=df\n",
    "\n"
   ]
  },
  {
   "cell_type": "markdown",
   "id": "3ca32c30",
   "metadata": {},
   "source": [
    "**(II) Drop Duplicate Data From DataFrame**"
   ]
  },
  {
   "cell_type": "markdown",
   "id": "e78a02cd",
   "metadata": {},
   "source": [
    "**(a) Default**"
   ]
  },
  {
   "cell_type": "code",
   "execution_count": null,
   "id": "64a13d50",
   "metadata": {},
   "outputs": [],
   "source": [
    "df_unique=df_unique.drop_duplicates()"
   ]
  },
  {
   "cell_type": "code",
   "execution_count": null,
   "id": "263e6984",
   "metadata": {},
   "outputs": [],
   "source": [
    "len(df)-len(df_unique)"
   ]
  },
  {
   "cell_type": "code",
   "execution_count": null,
   "id": "8102d68d",
   "metadata": {},
   "outputs": [],
   "source": [
    "df_unique.head(5)"
   ]
  },
  {
   "cell_type": "code",
   "execution_count": null,
   "id": "32ce241d",
   "metadata": {},
   "outputs": [],
   "source": [
    "df_unique_specified=df"
   ]
  },
  {
   "cell_type": "markdown",
   "id": "ad899bf3",
   "metadata": {},
   "source": [
    "**(a) Drop Duplicate From Specidied Columns**"
   ]
  },
  {
   "cell_type": "code",
   "execution_count": null,
   "id": "42b9f96c",
   "metadata": {},
   "outputs": [],
   "source": [
    "df_unique_specified=df_unique_specified.drop_duplicates(subset=['job_title','company_name'])"
   ]
  },
  {
   "cell_type": "code",
   "execution_count": null,
   "id": "f999d040",
   "metadata": {},
   "outputs": [],
   "source": [
    "len(df)-len(df_unique_specified)"
   ]
  },
  {
   "cell_type": "code",
   "execution_count": null,
   "id": "b6ae710f",
   "metadata": {},
   "outputs": [],
   "source": [
    "df"
   ]
  },
  {
   "cell_type": "code",
   "execution_count": null,
   "id": "bc7c002f",
   "metadata": {},
   "outputs": [],
   "source": [
    "df=df.drop_duplicates()"
   ]
  },
  {
   "cell_type": "code",
   "execution_count": null,
   "id": "38a709a7",
   "metadata": {},
   "outputs": [],
   "source": [
    "df['salary_year_avg'].fillna(median_yearly_sal, inplace=True)\n",
    "df['salary_hour_avg'].fillna(median_hourly_sal, inplace=True)"
   ]
  },
  {
   "cell_type": "code",
   "execution_count": null,
   "id": "d8ea5616",
   "metadata": {},
   "outputs": [],
   "source": [
    "df.head()"
   ]
  }
 ],
 "metadata": {
  "kernelspec": {
   "display_name": "base",
   "language": "python",
   "name": "python3"
  },
  "language_info": {
   "codemirror_mode": {
    "name": "ipython",
    "version": 3
   },
   "file_extension": ".py",
   "mimetype": "text/x-python",
   "name": "python",
   "nbconvert_exporter": "python",
   "pygments_lexer": "ipython3",
   "version": "3.12.7"
  }
 },
 "nbformat": 4,
 "nbformat_minor": 5
}
