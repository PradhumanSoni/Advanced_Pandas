{
 "cells": [
  {
   "cell_type": "code",
   "execution_count": null,
   "id": "8b090d3f",
   "metadata": {},
   "outputs": [],
   "source": [
    "\n",
    "# Importing Libraries\n",
    "import pandas as pd\n",
    "from datasets import load_dataset\n",
    "import matplotlib.pyplot as plt  \n",
    "\n",
    "# Loading Data\n",
    "dataset = load_dataset('lukebarousse/data_jobs')\n",
    "df = dataset['train'].to_pandas()\n",
    "\n",
    "# Data Cleanup\n",
    "df['job_posted_date'] = pd.to_datetime(df['job_posted_date'])\n",
    "\n",
    "title = input(\"Enter the job title to filter by (e.g., 'Data Scientist'): \")\n",
    "head_count=int(input(\"Enter the minimum head count (e.g., 10): \"))\n",
    "\n",
    "df['month_name']=df['job_posted_date'].dt.month_name()\n",
    "df_req= df[df['job_skills'].notna()]\n",
    "df_da= df_req[df_req['job_title_short']==title]\n",
    "\n",
    "import ast\n",
    "df_da['job_skills']=df_da['job_skills'].apply(lambda x: ast.literal_eval(x))\n",
    "\n",
    "df_da_exp=df_da.explode('job_skills')\n",
    "df_da_pt= df_da_exp.pivot_table(index='month_name',columns='job_skills',aggfunc='size',fill_value=0)\n",
    "\n",
    "top_skills = df_da_exp.groupby('job_skills').size().sort_values(ascending=False).head(head_count).index\n",
    "df_da_pt.loc[:,top_skills].reindex(['January', 'February', 'March', 'April', 'May', 'June',\n",
    "                                    'July', 'August', 'September', 'October', 'November', 'December']).plot(kind='line')\n"
   ]
  }
 ],
 "metadata": {
  "kernelspec": {
   "display_name": "base",
   "language": "python",
   "name": "python3"
  },
  "language_info": {
   "codemirror_mode": {
    "name": "ipython",
    "version": 3
   },
   "file_extension": ".py",
   "mimetype": "text/x-python",
   "name": "python",
   "nbconvert_exporter": "python",
   "pygments_lexer": "ipython3",
   "version": "3.12.7"
  }
 },
 "nbformat": 4,
 "nbformat_minor": 5
}
