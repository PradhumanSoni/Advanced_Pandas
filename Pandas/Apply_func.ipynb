{
 "cells": [
  {
   "cell_type": "markdown",
   "id": "db5d3835",
   "metadata": {},
   "source": [
    "**Projected Salary of 3% for All Jobs**"
   ]
  },
  {
   "cell_type": "code",
   "execution_count": 2,
   "id": "362be46d",
   "metadata": {},
   "outputs": [
    {
     "name": "stderr",
     "output_type": "stream",
     "text": [
      "C:\\Users\\sonip\\AppData\\Local\\Temp\\ipykernel_21000\\3659127820.py:16: SettingWithCopyWarning: \n",
      "A value is trying to be set on a copy of a slice from a DataFrame.\n",
      "Try using .loc[row_indexer,col_indexer] = value instead\n",
      "\n",
      "See the caveats in the documentation: https://pandas.pydata.org/pandas-docs/stable/user_guide/indexing.html#returning-a-view-versus-a-copy\n",
      "  new_df['projected_salary']=new_df['salary_year_avg'].apply(projected_salary)\n"
     ]
    },
    {
     "data": {
      "application/vnd.microsoft.datawrangler.viewer.v0+json": {
       "columns": [
        {
         "name": "index",
         "rawType": "int64",
         "type": "integer"
        },
        {
         "name": "salary_year_avg",
         "rawType": "float64",
         "type": "float"
        },
        {
         "name": "projected_salary",
         "rawType": "float64",
         "type": "float"
        }
       ],
       "ref": "0a5fd097-801e-4811-a416-a3cea4a34088",
       "rows": [
        [
         "28",
         "109500.0",
         "112785.0"
        ],
        [
         "77",
         "140000.0",
         "144200.0"
        ],
        [
         "92",
         "120000.0",
         "123600.0"
        ],
        [
         "100",
         "228222.0",
         "235068.66"
        ],
        [
         "109",
         "89000.0",
         "91670.0"
        ],
        [
         "116",
         "114000.0",
         "117420.0"
        ],
        [
         "146",
         "129500.0",
         "133385.0"
        ],
        [
         "180",
         "90250.0",
         "92957.5"
        ],
        [
         "212",
         "157500.0",
         "162225.0"
        ],
        [
         "257",
         "103128.0",
         "106221.84"
        ],
        [
         "307",
         "185000.0",
         "190550.0"
        ],
        [
         "339",
         "195000.0",
         "200850.0"
        ],
        [
         "380",
         "97500.0",
         "100425.0"
        ],
        [
         "388",
         "89000.0",
         "91670.0"
        ],
        [
         "410",
         "133285.0",
         "137283.55000000002"
        ],
        [
         "450",
         "157500.0",
         "162225.0"
        ],
        [
         "495",
         "168500.0",
         "173555.0"
        ],
        [
         "520",
         "63000.0",
         "64890.0"
        ],
        [
         "545",
         "80000.0",
         "82400.0"
        ],
        [
         "571",
         "110000.0",
         "113300.0"
        ],
        [
         "573",
         "160000.0",
         "164800.0"
        ],
        [
         "645",
         "125000.0",
         "128750.0"
        ],
        [
         "654",
         "70000.0",
         "72100.0"
        ],
        [
         "657",
         "165000.0",
         "169950.0"
        ],
        [
         "679",
         "317000.0",
         "326510.0"
        ],
        [
         "704",
         "100000.0",
         "103000.0"
        ],
        [
         "719",
         "111228.15625",
         "114565.00093750001"
        ],
        [
         "726",
         "173500.0",
         "178705.0"
        ],
        [
         "733",
         "160000.0",
         "164800.0"
        ],
        [
         "762",
         "171000.0",
         "176130.0"
        ],
        [
         "773",
         "180000.0",
         "185400.0"
        ],
        [
         "813",
         "157500.0",
         "162225.0"
        ],
        [
         "923",
         "135000.0",
         "139050.0"
        ],
        [
         "982",
         "85000.0",
         "87550.0"
        ],
        [
         "988",
         "62623.0",
         "64501.69"
        ],
        [
         "990",
         "90000.0",
         "92700.0"
        ],
        [
         "993",
         "125000.0",
         "128750.0"
        ],
        [
         "1011",
         "90000.0",
         "92700.0"
        ],
        [
         "1042",
         "105300.0",
         "108459.0"
        ],
        [
         "1106",
         "137500.0",
         "141625.0"
        ],
        [
         "1107",
         "157500.0",
         "162225.0"
        ],
        [
         "1148",
         "155000.0",
         "159650.0"
        ],
        [
         "1164",
         "190000.0",
         "195700.0"
        ],
        [
         "1209",
         "79200.0",
         "81576.0"
        ],
        [
         "1238",
         "190000.0",
         "195700.0"
        ],
        [
         "1257",
         "70700.0",
         "72821.0"
        ],
        [
         "1261",
         "180000.0",
         "185400.0"
        ],
        [
         "1280",
         "233500.0",
         "240505.0"
        ],
        [
         "1284",
         "102500.0",
         "105575.0"
        ],
        [
         "1313",
         "79200.0",
         "81576.0"
        ]
       ],
       "shape": {
        "columns": 2,
        "rows": 22003
       }
      },
      "text/html": [
       "<div>\n",
       "<style scoped>\n",
       "    .dataframe tbody tr th:only-of-type {\n",
       "        vertical-align: middle;\n",
       "    }\n",
       "\n",
       "    .dataframe tbody tr th {\n",
       "        vertical-align: top;\n",
       "    }\n",
       "\n",
       "    .dataframe thead th {\n",
       "        text-align: right;\n",
       "    }\n",
       "</style>\n",
       "<table border=\"1\" class=\"dataframe\">\n",
       "  <thead>\n",
       "    <tr style=\"text-align: right;\">\n",
       "      <th></th>\n",
       "      <th>salary_year_avg</th>\n",
       "      <th>projected_salary</th>\n",
       "    </tr>\n",
       "  </thead>\n",
       "  <tbody>\n",
       "    <tr>\n",
       "      <th>28</th>\n",
       "      <td>109500.0</td>\n",
       "      <td>112785.00</td>\n",
       "    </tr>\n",
       "    <tr>\n",
       "      <th>77</th>\n",
       "      <td>140000.0</td>\n",
       "      <td>144200.00</td>\n",
       "    </tr>\n",
       "    <tr>\n",
       "      <th>92</th>\n",
       "      <td>120000.0</td>\n",
       "      <td>123600.00</td>\n",
       "    </tr>\n",
       "    <tr>\n",
       "      <th>100</th>\n",
       "      <td>228222.0</td>\n",
       "      <td>235068.66</td>\n",
       "    </tr>\n",
       "    <tr>\n",
       "      <th>109</th>\n",
       "      <td>89000.0</td>\n",
       "      <td>91670.00</td>\n",
       "    </tr>\n",
       "    <tr>\n",
       "      <th>...</th>\n",
       "      <td>...</td>\n",
       "      <td>...</td>\n",
       "    </tr>\n",
       "    <tr>\n",
       "      <th>785624</th>\n",
       "      <td>139216.0</td>\n",
       "      <td>143392.48</td>\n",
       "    </tr>\n",
       "    <tr>\n",
       "      <th>785641</th>\n",
       "      <td>150000.0</td>\n",
       "      <td>154500.00</td>\n",
       "    </tr>\n",
       "    <tr>\n",
       "      <th>785648</th>\n",
       "      <td>221875.0</td>\n",
       "      <td>228531.25</td>\n",
       "    </tr>\n",
       "    <tr>\n",
       "      <th>785682</th>\n",
       "      <td>157500.0</td>\n",
       "      <td>162225.00</td>\n",
       "    </tr>\n",
       "    <tr>\n",
       "      <th>785692</th>\n",
       "      <td>157500.0</td>\n",
       "      <td>162225.00</td>\n",
       "    </tr>\n",
       "  </tbody>\n",
       "</table>\n",
       "<p>22003 rows × 2 columns</p>\n",
       "</div>"
      ],
      "text/plain": [
       "        salary_year_avg  projected_salary\n",
       "28             109500.0         112785.00\n",
       "77             140000.0         144200.00\n",
       "92             120000.0         123600.00\n",
       "100            228222.0         235068.66\n",
       "109             89000.0          91670.00\n",
       "...                 ...               ...\n",
       "785624         139216.0         143392.48\n",
       "785641         150000.0         154500.00\n",
       "785648         221875.0         228531.25\n",
       "785682         157500.0         162225.00\n",
       "785692         157500.0         162225.00\n",
       "\n",
       "[22003 rows x 2 columns]"
      ]
     },
     "execution_count": 2,
     "metadata": {},
     "output_type": "execute_result"
    }
   ],
   "source": [
    "\n",
    "# Importing Libraries\n",
    "import pandas as pd\n",
    "from datasets import load_dataset\n",
    "import matplotlib.pyplot as plt  \n",
    "\n",
    "# Loading Data\n",
    "dataset = load_dataset('lukebarousse/data_jobs')\n",
    "df = dataset['train'].to_pandas()\n",
    "\n",
    "# Data Cleanup\n",
    "df['job_posted_date'] = pd.to_datetime(df['job_posted_date'])\n",
    "new_df= df[df['salary_year_avg'].notna()]\n",
    "def projected_salary(salary):\n",
    "    return salary*1.03\n",
    "\n",
    "new_df['projected_salary']=new_df['salary_year_avg'].apply(projected_salary)\n",
    "new_df\n",
    "new_df[['salary_year_avg', 'projected_salary']]\n"
   ]
  },
  {
   "cell_type": "markdown",
   "id": "ae82ca91",
   "metadata": {},
   "source": [
    "**Projected salary of 5% for Senior Roles Rest 3%**"
   ]
  },
  {
   "cell_type": "code",
   "execution_count": 11,
   "id": "5803d012",
   "metadata": {},
   "outputs": [],
   "source": [
    "df_salary=new_df.copy()"
   ]
  },
  {
   "cell_type": "code",
   "execution_count": 12,
   "id": "2b7b00d4",
   "metadata": {},
   "outputs": [],
   "source": [
    "def projected_salary(row):\n",
    "    if 'Senior' in row['job_title_short']:\n",
    "        return row['salary_year_avg'] * 1.05\n",
    "    else:\n",
    "        return row['salary_year_avg'] * 1.03\n",
    "\n",
    "df_salary['projected_salary']= df_salary.apply(projected_salary, axis =1)\n",
    "\n",
    "\n"
   ]
  },
  {
   "cell_type": "code",
   "execution_count": 14,
   "id": "dd853a2c",
   "metadata": {},
   "outputs": [
    {
     "data": {
      "application/vnd.microsoft.datawrangler.viewer.v0+json": {
       "columns": [
        {
         "name": "index",
         "rawType": "int64",
         "type": "integer"
        },
        {
         "name": "job_title_short",
         "rawType": "object",
         "type": "string"
        },
        {
         "name": "salary_year_avg",
         "rawType": "float64",
         "type": "float"
        },
        {
         "name": "projected_salary",
         "rawType": "float64",
         "type": "float"
        }
       ],
       "ref": "86737162-5a50-4c36-b285-57dedc9dcb01",
       "rows": [
        [
         "28",
         "Data Scientist",
         "109500.0",
         "112785.0"
        ],
        [
         "77",
         "Data Engineer",
         "140000.0",
         "144200.0"
        ],
        [
         "92",
         "Data Engineer",
         "120000.0",
         "123600.0"
        ],
        [
         "100",
         "Data Scientist",
         "228222.0",
         "235068.66"
        ],
        [
         "109",
         "Data Analyst",
         "89000.0",
         "91670.0"
        ],
        [
         "116",
         "Data Scientist",
         "114000.0",
         "117420.0"
        ],
        [
         "146",
         "Data Engineer",
         "129500.0",
         "133385.0"
        ],
        [
         "180",
         "Data Analyst",
         "90250.0",
         "92957.5"
        ],
        [
         "212",
         "Data Scientist",
         "157500.0",
         "162225.0"
        ],
        [
         "257",
         "Data Scientist",
         "103128.0",
         "106221.84"
        ],
        [
         "307",
         "Data Engineer",
         "185000.0",
         "190550.0"
        ],
        [
         "339",
         "Data Engineer",
         "195000.0",
         "200850.0"
        ],
        [
         "380",
         "Data Engineer",
         "97500.0",
         "100425.0"
        ],
        [
         "388",
         "Data Engineer",
         "89000.0",
         "91670.0"
        ],
        [
         "410",
         "Data Analyst",
         "133285.0",
         "137283.55000000002"
        ],
        [
         "450",
         "Data Scientist",
         "157500.0",
         "162225.0"
        ],
        [
         "495",
         "Senior Data Engineer",
         "168500.0",
         "176925.0"
        ],
        [
         "520",
         "Business Analyst",
         "63000.0",
         "64890.0"
        ],
        [
         "545",
         "Data Engineer",
         "80000.0",
         "82400.0"
        ],
        [
         "571",
         "Data Engineer",
         "110000.0",
         "113300.0"
        ],
        [
         "573",
         "Senior Data Engineer",
         "160000.0",
         "168000.0"
        ],
        [
         "645",
         "Business Analyst",
         "125000.0",
         "128750.0"
        ],
        [
         "654",
         "Data Engineer",
         "70000.0",
         "72100.0"
        ],
        [
         "657",
         "Senior Data Engineer",
         "165000.0",
         "173250.0"
        ],
        [
         "679",
         "Software Engineer",
         "317000.0",
         "326510.0"
        ],
        [
         "704",
         "Data Engineer",
         "100000.0",
         "103000.0"
        ],
        [
         "719",
         "Data Engineer",
         "111228.15625",
         "114565.00093750001"
        ],
        [
         "726",
         "Senior Data Engineer",
         "173500.0",
         "182175.0"
        ],
        [
         "733",
         "Senior Data Engineer",
         "160000.0",
         "168000.0"
        ],
        [
         "762",
         "Data Engineer",
         "171000.0",
         "176130.0"
        ],
        [
         "773",
         "Data Engineer",
         "180000.0",
         "185400.0"
        ],
        [
         "813",
         "Data Engineer",
         "157500.0",
         "162225.0"
        ],
        [
         "923",
         "Data Engineer",
         "135000.0",
         "139050.0"
        ],
        [
         "982",
         "Senior Data Analyst",
         "85000.0",
         "89250.0"
        ],
        [
         "988",
         "Data Analyst",
         "62623.0",
         "64501.69"
        ],
        [
         "990",
         "Senior Data Analyst",
         "90000.0",
         "94500.0"
        ],
        [
         "993",
         "Data Engineer",
         "125000.0",
         "128750.0"
        ],
        [
         "1011",
         "Senior Data Engineer",
         "90000.0",
         "94500.0"
        ],
        [
         "1042",
         "Machine Learning Engineer",
         "105300.0",
         "108459.0"
        ],
        [
         "1106",
         "Data Engineer",
         "137500.0",
         "141625.0"
        ],
        [
         "1107",
         "Data Scientist",
         "157500.0",
         "162225.0"
        ],
        [
         "1148",
         "Senior Data Engineer",
         "155000.0",
         "162750.0"
        ],
        [
         "1164",
         "Data Engineer",
         "190000.0",
         "195700.0"
        ],
        [
         "1209",
         "Machine Learning Engineer",
         "79200.0",
         "81576.0"
        ],
        [
         "1238",
         "Senior Data Engineer",
         "190000.0",
         "199500.0"
        ],
        [
         "1257",
         "Data Scientist",
         "70700.0",
         "72821.0"
        ],
        [
         "1261",
         "Senior Data Engineer",
         "180000.0",
         "189000.0"
        ],
        [
         "1280",
         "Software Engineer",
         "233500.0",
         "240505.0"
        ],
        [
         "1284",
         "Data Engineer",
         "102500.0",
         "105575.0"
        ],
        [
         "1313",
         "Data Engineer",
         "79200.0",
         "81576.0"
        ]
       ],
       "shape": {
        "columns": 3,
        "rows": 22003
       }
      },
      "text/html": [
       "<div>\n",
       "<style scoped>\n",
       "    .dataframe tbody tr th:only-of-type {\n",
       "        vertical-align: middle;\n",
       "    }\n",
       "\n",
       "    .dataframe tbody tr th {\n",
       "        vertical-align: top;\n",
       "    }\n",
       "\n",
       "    .dataframe thead th {\n",
       "        text-align: right;\n",
       "    }\n",
       "</style>\n",
       "<table border=\"1\" class=\"dataframe\">\n",
       "  <thead>\n",
       "    <tr style=\"text-align: right;\">\n",
       "      <th></th>\n",
       "      <th>job_title_short</th>\n",
       "      <th>salary_year_avg</th>\n",
       "      <th>projected_salary</th>\n",
       "    </tr>\n",
       "  </thead>\n",
       "  <tbody>\n",
       "    <tr>\n",
       "      <th>28</th>\n",
       "      <td>Data Scientist</td>\n",
       "      <td>109500.0</td>\n",
       "      <td>112785.00</td>\n",
       "    </tr>\n",
       "    <tr>\n",
       "      <th>77</th>\n",
       "      <td>Data Engineer</td>\n",
       "      <td>140000.0</td>\n",
       "      <td>144200.00</td>\n",
       "    </tr>\n",
       "    <tr>\n",
       "      <th>92</th>\n",
       "      <td>Data Engineer</td>\n",
       "      <td>120000.0</td>\n",
       "      <td>123600.00</td>\n",
       "    </tr>\n",
       "    <tr>\n",
       "      <th>100</th>\n",
       "      <td>Data Scientist</td>\n",
       "      <td>228222.0</td>\n",
       "      <td>235068.66</td>\n",
       "    </tr>\n",
       "    <tr>\n",
       "      <th>109</th>\n",
       "      <td>Data Analyst</td>\n",
       "      <td>89000.0</td>\n",
       "      <td>91670.00</td>\n",
       "    </tr>\n",
       "    <tr>\n",
       "      <th>...</th>\n",
       "      <td>...</td>\n",
       "      <td>...</td>\n",
       "      <td>...</td>\n",
       "    </tr>\n",
       "    <tr>\n",
       "      <th>785624</th>\n",
       "      <td>Data Engineer</td>\n",
       "      <td>139216.0</td>\n",
       "      <td>143392.48</td>\n",
       "    </tr>\n",
       "    <tr>\n",
       "      <th>785641</th>\n",
       "      <td>Data Engineer</td>\n",
       "      <td>150000.0</td>\n",
       "      <td>154500.00</td>\n",
       "    </tr>\n",
       "    <tr>\n",
       "      <th>785648</th>\n",
       "      <td>Data Scientist</td>\n",
       "      <td>221875.0</td>\n",
       "      <td>228531.25</td>\n",
       "    </tr>\n",
       "    <tr>\n",
       "      <th>785682</th>\n",
       "      <td>Data Scientist</td>\n",
       "      <td>157500.0</td>\n",
       "      <td>162225.00</td>\n",
       "    </tr>\n",
       "    <tr>\n",
       "      <th>785692</th>\n",
       "      <td>Data Scientist</td>\n",
       "      <td>157500.0</td>\n",
       "      <td>162225.00</td>\n",
       "    </tr>\n",
       "  </tbody>\n",
       "</table>\n",
       "<p>22003 rows × 3 columns</p>\n",
       "</div>"
      ],
      "text/plain": [
       "       job_title_short  salary_year_avg  projected_salary\n",
       "28      Data Scientist         109500.0         112785.00\n",
       "77       Data Engineer         140000.0         144200.00\n",
       "92       Data Engineer         120000.0         123600.00\n",
       "100     Data Scientist         228222.0         235068.66\n",
       "109       Data Analyst          89000.0          91670.00\n",
       "...                ...              ...               ...\n",
       "785624   Data Engineer         139216.0         143392.48\n",
       "785641   Data Engineer         150000.0         154500.00\n",
       "785648  Data Scientist         221875.0         228531.25\n",
       "785682  Data Scientist         157500.0         162225.00\n",
       "785692  Data Scientist         157500.0         162225.00\n",
       "\n",
       "[22003 rows x 3 columns]"
      ]
     },
     "execution_count": 14,
     "metadata": {},
     "output_type": "execute_result"
    }
   ],
   "source": [
    "df_salary[['job_title_short', 'salary_year_avg', 'projected_salary']]"
   ]
  },
  {
   "cell_type": "code",
   "execution_count": null,
   "id": "34a43967",
   "metadata": {},
   "outputs": [],
   "source": []
  }
 ],
 "metadata": {
  "kernelspec": {
   "display_name": "base",
   "language": "python",
   "name": "python3"
  },
  "language_info": {
   "codemirror_mode": {
    "name": "ipython",
    "version": 3
   },
   "file_extension": ".py",
   "mimetype": "text/x-python",
   "name": "python",
   "nbconvert_exporter": "python",
   "pygments_lexer": "ipython3",
   "version": "3.12.7"
  }
 },
 "nbformat": 4,
 "nbformat_minor": 5
}
